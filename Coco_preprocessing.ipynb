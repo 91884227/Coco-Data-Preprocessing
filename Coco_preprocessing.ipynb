{
 "cells": [
  {
   "cell_type": "markdown",
   "metadata": {},
   "source": [
    "# import tool"
   ]
  },
  {
   "cell_type": "code",
   "execution_count": 3,
   "metadata": {},
   "outputs": [],
   "source": [
    "import pandas as pd\n",
    "import numpy as np\n",
    "import re\n",
    "from itertools import compress\n",
    "from tqdm import tqdm\n",
    "import sys"
   ]
  },
  {
   "cell_type": "code",
   "execution_count": 16,
   "metadata": {},
   "outputs": [],
   "source": [
    "def string_replace(str_):\n",
    "    all_replace_word = [\"\\n\",\"\\u3000\"]\n",
    "    for i in all_replace_word:\n",
    "        str_ = str_.replace(i, \" \")\n",
    "    return(str_)"
   ]
  },
  {
   "cell_type": "code",
   "execution_count": 53,
   "metadata": {},
   "outputs": [],
   "source": [
    "def str_adjust(str_):\n",
    "    buf = str_\n",
    "    try:\n",
    "        m = re.match(r'(^\\s+)((.*)(\\S))(\\s+$)', str_)\n",
    "        buf = m.group(2)\n",
    "#         if(len(buf) < 5):\n",
    "#             print(\"to short: %s\\n\" % str_)\n",
    "    except:\n",
    "        pass\n",
    "        print(\"error happend: %s\\n\" % str_)\n",
    "        #print(\"error happend\")\n",
    "    return(buf)"
   ]
  },
  {
   "cell_type": "code",
   "execution_count": 55,
   "metadata": {},
   "outputs": [],
   "source": [
    "if __name__ == '__main__':\n",
    "    FIALNAME =  sys.argv[1]\n",
    "    #FILENAME = \"coco_title_category_1_to_3_MAX_5.csv\"\n",
    "    MIN_LENGTH = 10\n",
    "\n",
    "    print(\"read %s in \" % FIALNAME)\n",
    "    df = pd.read_csv(FIALNAME, encoding=\"utf-8\")\n",
    "    title = df.title.to_numpy()\n",
    "\n",
    "    print(\"replace %s to \\\" \\\" for all title\" % [\"\\n\",\"\\u3000\"])\n",
    "    title_A = [string_replace(i) for i in tqdm(title)] \n",
    "\n",
    "    print(\"remove blank in front of title and remove blank at the end of title\")\n",
    "    title_B = [str_adjust(i) for i in tqdm(title_A)]\n",
    "\n",
    "    print(\"delete title that len(title) < %d\" % MIN_LENGTH)\n",
    "    title_length = [len(i) for i in title_B]\n",
    "    bool_want = np.array(title_length) > 10\n",
    "    title_C = list(compress(title_B, bool_want))\n",
    "\n",
    "    # save\n",
    "    name = \"%s_adjust.npy\" % FIALNAME[:-4]\n",
    "\n",
    "    try:\n",
    "        np.save(name, title_C)\n",
    "        print(\"preprocessing successfully\")\n",
    "        print(\"save as %s\" % name)\n",
    "    except:\n",
    "        print(\"preprocessing failed\")"
   ]
  }
 ],
 "metadata": {
  "kernelspec": {
   "display_name": "Python 3",
   "language": "python",
   "name": "python3"
  },
  "language_info": {
   "codemirror_mode": {
    "name": "ipython",
    "version": 3
   },
   "file_extension": ".py",
   "mimetype": "text/x-python",
   "name": "python",
   "nbconvert_exporter": "python",
   "pygments_lexer": "ipython3",
   "version": "3.6.4"
  }
 },
 "nbformat": 4,
 "nbformat_minor": 2
}
